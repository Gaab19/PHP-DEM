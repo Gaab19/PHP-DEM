{
  "nbformat": 4,
  "nbformat_minor": 0,
  "metadata": {
    "colab": {
      "provenance": [],
      "authorship_tag": "ABX9TyNk6jUaKryah4OT/7mupVB6",
      "include_colab_link": true
    },
    "kernelspec": {
      "name": "python3",
      "display_name": "Python 3"
    },
    "language_info": {
      "name": "python"
    }
  },
  "cells": [
    {
      "cell_type": "markdown",
      "metadata": {
        "id": "view-in-github",
        "colab_type": "text"
      },
      "source": [
        "<a href=\"https://colab.research.google.com/github/Gaab19/PHP-DEM/blob/main/RETURN_E_DEF_PYTHON.ipynb\" target=\"_parent\"><img src=\"https://colab.research.google.com/assets/colab-badge.svg\" alt=\"Open In Colab\"/></a>"
      ]
    },
    {
      "cell_type": "code",
      "execution_count": 1,
      "metadata": {
        "id": "HjAZ6Cye4XjI"
      },
      "outputs": [],
      "source": [
        "#Declaração da função\n",
        "def primeiraFuncao():\n",
        " print('Minha primeira função,ó')\n",
        "\n",
        "#Chamando a função\n",
        " primeiraFuncao()"
      ]
    },
    {
      "cell_type": "code",
      "source": [
        "def pronomeTratam(pronome):\n",
        "  print(pronome,\"Gabriel\")"
      ],
      "metadata": {
        "id": "bxXA_m6c4aGj"
      },
      "execution_count": 2,
      "outputs": []
    },
    {
      "cell_type": "code",
      "source": [
        "pronomeTratam('Doutor')\n",
        "pronomeTratam('Ilmo')\n",
        "pronomeTratam('Seu')"
      ],
      "metadata": {
        "colab": {
          "base_uri": "https://localhost:8080/"
        },
        "id": "7Hb60RqT4kE-",
        "outputId": "bfbf84dc-6801-4a7f-e119-547387d07630"
      },
      "execution_count": 4,
      "outputs": [
        {
          "output_type": "stream",
          "name": "stdout",
          "text": [
            "Doutor Gabriel\n",
            "Ilmo Gabriel\n",
            "Seu Gabriel\n"
          ]
        }
      ]
    },
    {
      "cell_type": "code",
      "source": [
        "def pronomeTratam(pronome):\n",
        " print(pronome,'Junin')"
      ],
      "metadata": {
        "id": "8e_T8ou35Avh"
      },
      "execution_count": 5,
      "outputs": []
    },
    {
      "cell_type": "code",
      "source": [
        "#Uma função deve ser chamada com o numero certinho\n",
        "\n",
        "def boasVindas(nome,cargo):\n",
        "  print('Olá, ' + cargo + ' '+ nome)"
      ],
      "metadata": {
        "id": "XLaaafGu5TgA"
      },
      "execution_count": 6,
      "outputs": []
    },
    {
      "cell_type": "code",
      "source": [
        "boasVindas('Amaralina', 'Engenheira')\n",
        "boasVindas('Jorge', 'Carimbador')\n",
        "boasVindas('Maria', 'Sargento')\n",
        "\n",
        "#Experimente passar apenas um dos parametros"
      ],
      "metadata": {
        "colab": {
          "base_uri": "https://localhost:8080/"
        },
        "id": "FjiwIGfU6THP",
        "outputId": "359cc844-2870-4eb8-9b70-6cea1664c8ed"
      },
      "execution_count": 7,
      "outputs": [
        {
          "output_type": "stream",
          "name": "stdout",
          "text": [
            "Olá, Engenheira Amaralina\n",
            "Olá, Carimbador Jorge\n",
            "Olá, Sargento Maria\n"
          ]
        }
      ]
    },
    {
      "cell_type": "code",
      "source": [
        "def funcaoSemNome(nome,anoNascim):\n",
        "  idade = 2023 - anoNascim\n",
        "  print(nome, idade)"
      ],
      "metadata": {
        "id": "bLGREgD37yE0"
      },
      "execution_count": null,
      "outputs": []
    },
    {
      "cell_type": "code",
      "source": [
        "funcaoSemNome('Gabriel',2003)\n",
        "funcaoSemNome()"
      ],
      "metadata": {
        "id": "D_C2Q6IT7_Yr"
      },
      "execution_count": null,
      "outputs": []
    },
    {
      "cell_type": "code",
      "source": [
        "def somaNotas(*notas):\n",
        "  soma = 0\n",
        "  for nota in notas:\n",
        "    soma += nota\n",
        "  print(soma)"
      ],
      "metadata": {
        "id": "e-bHRMhQ8iCJ"
      },
      "execution_count": 10,
      "outputs": []
    },
    {
      "cell_type": "code",
      "source": [
        "somaNotas(8, 5, 3, 7, 2, 10)"
      ],
      "metadata": {
        "colab": {
          "base_uri": "https://localhost:8080/"
        },
        "id": "pFMUlkmW9bwA",
        "outputId": "43aa375b-b369-44bd-dc2d-c8d374bff99e"
      },
      "execution_count": 11,
      "outputs": [
        {
          "output_type": "stream",
          "name": "stdout",
          "text": [
            "35\n"
          ]
        }
      ]
    },
    {
      "cell_type": "code",
      "source": [
        "def media(*notas):\n",
        "  soma = 0\n",
        "  for nota in notas:\n",
        "    soma += nota\n",
        "  print(soma / len(notas))"
      ],
      "metadata": {
        "id": "AnTSLq-X8Zg5"
      },
      "execution_count": 14,
      "outputs": []
    },
    {
      "cell_type": "code",
      "source": [
        "media(8, 5, 3, 7, 2, 10,7,10)"
      ],
      "metadata": {
        "colab": {
          "base_uri": "https://localhost:8080/"
        },
        "id": "f7pvqbVu_jkj",
        "outputId": "14c9219d-6839-4308-8a2f-443554eac77b"
      },
      "execution_count": 19,
      "outputs": [
        {
          "output_type": "stream",
          "name": "stdout",
          "text": [
            "6.5\n"
          ]
        }
      ]
    },
    {
      "cell_type": "code",
      "source": [
        "#Valor de parametro padrao\n",
        "\n",
        "def nacionalidade(country = 'Europa'):\n",
        "  print('Eu nasci em: ' + country)"
      ],
      "metadata": {
        "id": "gVJjiFtTATpS"
      },
      "execution_count": 20,
      "outputs": []
    },
    {
      "cell_type": "code",
      "source": [
        "nacionalidade('Brasil')\n",
        "nacionalidade('França')\n",
        "nacionalidade('Vietnã')\n",
        "nacionalidade()"
      ],
      "metadata": {
        "colab": {
          "base_uri": "https://localhost:8080/"
        },
        "id": "xIxynBB0Akuv",
        "outputId": "e7a1f115-21b2-4768-952d-94f2d30acb79"
      },
      "execution_count": 21,
      "outputs": [
        {
          "output_type": "stream",
          "name": "stdout",
          "text": [
            "Eu nasci em: Brasil\n",
            "Eu nasci em: França\n",
            "Eu nasci em: Vietnã\n",
            "Eu nasci em: Europa\n"
          ]
        }
      ]
    },
    {
      "cell_type": "code",
      "source": [
        "def imc(peso, altura):\n",
        "  return peso/altura**2"
      ],
      "metadata": {
        "id": "EAQYUszOB3Z1"
      },
      "execution_count": 23,
      "outputs": []
    },
    {
      "cell_type": "code",
      "source": [
        "def situacaoPeso(imc):\n",
        "  if(imc < 18.5):\n",
        "     print('Abaixo do peso normal')\n",
        "  elif(imc < 24.9):\n",
        "     print('Peso normal')\n",
        "  else:\n",
        "    print('Obesidade')\n"
      ],
      "metadata": {
        "id": "yLmYzBfFC3uk"
      },
      "execution_count": 26,
      "outputs": []
    },
    {
      "cell_type": "code",
      "source": [
        "situacaoPeso(imc(86, 1.80))"
      ],
      "metadata": {
        "colab": {
          "base_uri": "https://localhost:8080/"
        },
        "id": "mSterBe6D688",
        "outputId": "eab3cb9a-ffca-4b7b-f326-1edcc906a23f"
      },
      "execution_count": 33,
      "outputs": [
        {
          "output_type": "stream",
          "name": "stdout",
          "text": [
            "Obesidade\n"
          ]
        }
      ]
    },
    {
      "cell_type": "code",
      "source": [
        "#O calculo de Juros Simples é dado pela formula:\n",
        "# J = C * i * t\n",
        "# Sendo:\n",
        "# J = Juros Simples\n",
        "# C = Capital Inicial\n",
        "# i = Taca de juros\n",
        "# t = Tempo de aplicação\n",
        "# Crie uma função que recebe um valor de emprestimo e o \n",
        "# Tempo e retorne quanto será pago de juros ao final do periodo\n",
        "# Use uma taxa de juros de 2.5%"
      ],
      "metadata": {
        "id": "nW2eVH1dFDYs"
      },
      "execution_count": 35,
      "outputs": []
    },
    {
      "cell_type": "code",
      "source": [
        "# Soma\n",
        "def soma(a, b):\n",
        "  return a + b\n",
        "#Subtração\n",
        "def subtracao(a, b):\n",
        "  return a - b\n",
        "#Multiplicação\n",
        "def vezes(a, b):\n",
        "  return a * b\n",
        "#Divisão\n",
        "def divisao(a, b):\n",
        "  return a / b"
      ],
      "metadata": {
        "id": "KbDer6dPFvxX"
      },
      "execution_count": 34,
      "outputs": []
    }
  ]
}